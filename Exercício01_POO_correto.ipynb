{
  "nbformat": 4,
  "nbformat_minor": 0,
  "metadata": {
    "colab": {
      "provenance": [],
      "authorship_tag": "ABX9TyNmF8yS22GSd9TntLKbuN6P",
      "include_colab_link": true
    },
    "kernelspec": {
      "name": "python3",
      "display_name": "Python 3"
    },
    "language_info": {
      "name": "python"
    }
  },
  "cells": [
    {
      "cell_type": "markdown",
      "metadata": {
        "id": "view-in-github",
        "colab_type": "text"
      },
      "source": [
        "<a href=\"https://colab.research.google.com/github/D1rceu/Exerc-cios_POO_Python/blob/main/Exerc%C3%ADcio01_POO_correto.ipynb\" target=\"_parent\"><img src=\"https://colab.research.google.com/assets/colab-badge.svg\" alt=\"Open In Colab\"/></a>"
      ]
    },
    {
      "cell_type": "code",
      "execution_count": null,
      "metadata": {
        "id": "aAlHxNc7u7wl"
      },
      "outputs": [],
      "source": [
        "fahren = float(input(\"Insira a temperatura em Fahrenheit: \"))\n",
        "print(\"Essa temperatura em °C: \", (fahren-32)/1.8)"
      ]
    }
  ]
}