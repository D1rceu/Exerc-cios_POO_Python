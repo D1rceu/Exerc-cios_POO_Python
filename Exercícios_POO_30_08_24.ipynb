{
  "nbformat": 4,
  "nbformat_minor": 0,
  "metadata": {
    "colab": {
      "provenance": [],
      "authorship_tag": "ABX9TyNGod8lhm07iYluy/qegmsw",
      "include_colab_link": true
    },
    "kernelspec": {
      "name": "python3",
      "display_name": "Python 3"
    },
    "language_info": {
      "name": "python"
    }
  },
  "cells": [
    {
      "cell_type": "markdown",
      "metadata": {
        "id": "view-in-github",
        "colab_type": "text"
      },
      "source": [
        "<a href=\"https://colab.research.google.com/github/D1rceu/Exerc-cios_POO_Python/blob/main/Exerc%C3%ADcios_POO_30_08_24.ipynb\" target=\"_parent\"><img src=\"https://colab.research.google.com/assets/colab-badge.svg\" alt=\"Open In Colab\"/></a>"
      ]
    },
    {
      "cell_type": "markdown",
      "source": [
        "Ex.2) Converter Polegadas para Milímetros;\n",
        "\n",
        "*Narrativa:*\n",
        "Entrada: P\n",
        "\n",
        "Processamento: P * 25.4\n",
        "\n",
        "Saída: Mm\n",
        "\n",
        "*Pseudocódigo:*\n",
        "\n",
        "- Início,\n",
        "\n",
        "Real: P, Mm\n",
        "\n",
        "Ler P,\n",
        "\n",
        "Calcular Mm=(P*25.4),\n",
        "\n",
        "Exibir Mm,\n",
        "\n",
        "- Fim.\n",
        "\n"
      ],
      "metadata": {
        "id": "9NUXJyCdeumq"
      }
    },
    {
      "cell_type": "code",
      "execution_count": 1,
      "metadata": {
        "colab": {
          "base_uri": "https://localhost:8080/"
        },
        "id": "oji5DCjDctJ4",
        "outputId": "596b7f19-683b-437e-c207-0ce10c28b1ab"
      },
      "outputs": [
        {
          "output_type": "stream",
          "name": "stdout",
          "text": [
            "Digite sua medida em Polegadas: 50\n",
            "A sua medida de 50.0' polegadas é de: 1270.0mm.\n"
          ]
        }
      ],
      "source": [
        "#Entrada; Cria a caixa de texto e pede ao usuário que digite o valor pedido;\n",
        "P = float(input(\"Digite sua medida em Polegadas: \"))\n",
        "\n",
        "#Calcula o valor da variável de saída (Mm);\n",
        "Mm = P * 25.4\n",
        "\n",
        "#Saída; Exibe o(s) resultado(s) do(s) cálculos e o valor de saída;\n",
        "print(f\"A sua medida de {P}' polegadas é de: {Mm}mm.\")"
      ]
    },
    {
      "cell_type": "markdown",
      "source": [
        "Ex.3) Milímetros para Polegadas\n",
        "\n",
        "*Narrativa:*\n",
        "\n",
        "Entrada: P\n",
        "\n",
        "Processamento: Mm / 25.4\n",
        "\n",
        "Saída: Mm\n",
        "\n",
        "----\n",
        "\n",
        "*Pseudocódigo:*\n",
        "\n",
        "- Início,\n",
        "\n",
        "Real: P, Mm\n",
        "\n",
        "Ler Mm,\n",
        "\n",
        "Calcular P=(Mm/25.4),\n",
        "\n",
        "Exibir P,\n",
        "\n",
        "- Fim."
      ],
      "metadata": {
        "id": "EsH33O1jj3Wk"
      }
    },
    {
      "cell_type": "code",
      "source": [
        "#Entrada; Cria a caixa de texto e pede ao usuário que digite o valor pedido;\n",
        "Mm = float(input(\"Digite sua medida em Polegadas: \"))\n",
        "\n",
        "#Calcula o valor da variável de saída (P)\n",
        "P = Mm/25.4\n",
        "\n",
        "#Saída; Exibe o(s) resultado(s) do(s) cálculos e o valor de saída;\n",
        "print(f\"A sua medida de {Mm}mm é de: {P}' Polegadas.\")"
      ],
      "metadata": {
        "colab": {
          "base_uri": "https://localhost:8080/"
        },
        "id": "7AG5i0tBkX8S",
        "outputId": "07f93b6e-7a56-4f09-cd1f-c1ef4cfe5b65"
      },
      "execution_count": 2,
      "outputs": [
        {
          "output_type": "stream",
          "name": "stdout",
          "text": [
            "Digite sua medida em Polegadas: 50\n",
            "A sua medida de 50.0mm é de: 1.968503937007874' Polegadas.\n"
          ]
        }
      ]
    },
    {
      "cell_type": "markdown",
      "source": [
        "Ex.4) Criar um programa que, baseado na sua idade, informa se o usuário pode ou não votar.\n",
        "\n",
        "*Narrativa:*\n",
        "\n",
        "Entrada: id;\n",
        "\n",
        "Processamento: if idade >= 16 e < 70, exibir a mensagem: pode votar, senão, exibir: não pode votar;\n",
        "\n",
        "Saída: Exibir mensagem;\n",
        "\n",
        "----\n",
        "\n",
        "*Pseudocódigo:*\n",
        "\n",
        "- Início\n",
        "\n",
        "Real: id\n",
        "\n",
        "Ler: id\n",
        "\n",
        "if id >= 16 and < 70:\n",
        "print pode votar\n",
        "\n",
        "else, print não pode votar\n",
        "\n",
        "Exibir mensagem;\n",
        "\n",
        "- Fim"
      ],
      "metadata": {
        "id": "d25FGMdQmroS"
      }
    },
    {
      "cell_type": "code",
      "source": [
        "#Entrada; Cria a caixa de texto e pede ao usuário que digite o valor pedido;\n",
        "id = int(input(\"Digite aqui a sua idade: \"))\n",
        "\n",
        "#Indica que, se o valor inserido se encaixar nos parâmetros propostos, exibe uma mensagem;\n",
        "if id >= 16 and id < 70:\n",
        "  print(\"Pode votar!\")\n",
        "  #Se o valor não se encaixar nos parâmetros, exibe outra mensagem;\n",
        "\n",
        "else:\n",
        "  print(\"Não pode votar.\")"
      ],
      "metadata": {
        "colab": {
          "base_uri": "https://localhost:8080/"
        },
        "id": "qr_ws62mmsDR",
        "outputId": "51203ba3-9262-47a3-8596-6770c5f2f6f4"
      },
      "execution_count": 5,
      "outputs": [
        {
          "output_type": "stream",
          "name": "stdout",
          "text": [
            "Digite aqui a sua idade: 500\n",
            "Não pode votar.\n"
          ]
        }
      ]
    },
    {
      "cell_type": "code",
      "source": [],
      "metadata": {
        "id": "bnkaYt2007ex"
      },
      "execution_count": null,
      "outputs": []
    }
  ]
}